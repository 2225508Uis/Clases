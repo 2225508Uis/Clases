{
 "cells": [
  {
   "attachments": {},
   "cell_type": "markdown",
   "metadata": {},
   "source": [
    "1. ¿Qué es una permutación?\n",
    "Una permutación es un arreglo ordenado de objetos distintos. En otras palabras, es un reordenamiento de un conjunto de objetos en una secuencia determinada.\n",
    "\n",
    "Por ejemplo, si tenemos un conjunto de tres objetos A, B y C, podemos generar seis permutaciones diferentes:\n",
    "\n",
    "ABC\n",
    "ACB\n",
    "BAC\n",
    "BCA\n",
    "CAB\n",
    "CBA\n",
    "Cada una de estas permutaciones representa un reordenamiento único de los mismos objetos. Las permutaciones pueden ser útiles en matemáticas, estadística, criptografía y en muchos otros campos."
   ]
  },
  {
   "attachments": {},
   "cell_type": "markdown",
   "metadata": {},
   "source": [
    "### hay permutaciones y combinaciones \n",
    "* con repeticion\n",
    "* sin repeticion"
   ]
  },
  {
   "attachments": {},
   "cell_type": "markdown",
   "metadata": {},
   "source": [
    "2. ¿Qué es una combinación?\n",
    "Una combinación es un subconjunto no ordenado de objetos seleccionados de un conjunto más grande. En otras palabras, una combinación es un grupo de objetos elegidos sin importar el orden en que se seleccionan.\n",
    "\n",
    "Por ejemplo, si tenemos un conjunto de tres objetos A, B y C, podemos generar tres combinaciones diferentes de dos objetos cada una:\n",
    "\n",
    "AB\n",
    "AC\n",
    "BC\n",
    "En cada una de estas combinaciones, los objetos se seleccionan sin tener en cuenta el orden en que aparecen. Esto es diferente de las permutaciones, donde el orden de los objetos es importante.\n",
    "\n",
    "Las combinaciones son útiles en una variedad de campos, como las matemáticas, la estadística y la informática, donde se utilizan para resolver problemas de conteo y probabilidad."
   ]
  },
  {
   "attachments": {},
   "cell_type": "markdown",
   "metadata": {},
   "source": [
    "3. ¿Cuál es la fórmula para calcular el número de permutaciones de n elementos tomados r a la vez?\n",
    "La fórmula para calcular el número de permutaciones de n elementos tomados r a la vez es:\n",
    "\n",
    "P(n,r) = n! / (n-r)!\n",
    "\n",
    "donde \"!\" significa factorial, lo que implica la multiplicación de todos los enteros positivos desde 1 hasta el número dado.\n",
    "\n",
    "Por ejemplo, si queremos calcular el número de permutaciones de 5 elementos tomados 3 a la vez, podemos usar la fórmula de la siguiente manera:\n",
    "\n",
    "P(5,3) = 5! / (5-3)!\n",
    "= 5! / 2!\n",
    "= (5 x 4 x 3 x 2 x 1) / (2 x 1)\n",
    "= 60\n",
    "\n",
    "Esto significa que hay 60 formas diferentes de ordenar 3 elementos seleccionados de un conjunto de 5 elementos."
   ]
  },
  {
   "attachments": {},
   "cell_type": "markdown",
   "metadata": {},
   "source": [
    "4. ¿Cuál es la fórmula para calcular el número de combinaciones de n elementos tomados r a la vez?\n",
    "La fórmula para calcular el número de combinaciones de n elementos tomados r a la vez es:\n",
    "\n",
    "C(n,r) = n! / (r! * (n-r)!)\n",
    "\n",
    "donde \"!\" significa factorial, lo que implica la multiplicación de todos los enteros positivos desde 1 hasta el número dado.\n",
    "\n",
    "Por ejemplo, si queremos calcular el número de combinaciones de 5 elementos tomados 3 a la vez, podemos usar la fórmula de la siguiente manera:\n",
    "\n",
    "C(5,3) = 5! / (3! * (5-3)!)\n",
    "= 5! / (3! * 2!)\n",
    "= (5 x 4 x 3 x 2 x 1) / ((3 x 2 x 1) * (2 x 1))\n",
    "= 10\n",
    "\n",
    "Esto significa que hay 10 formas diferentes de seleccionar un subconjunto de 3 elementos de un conjunto de 5 elementos, sin importar el orden en que se seleccionen."
   ]
  },
  {
   "attachments": {},
   "cell_type": "markdown",
   "metadata": {},
   "source": [
    "5. ¿Cuál es la diferencia entre una permutación y una combinación?\n",
    "La principal diferencia entre una permutación y una combinación es que la permutación implica un orden específico de los elementos, mientras que la combinación no lo hace.\n",
    "\n",
    "En una permutación, se toma un conjunto de objetos y se los reorganiza en una secuencia determinada. Por ejemplo, si se tienen tres objetos A, B y C, las seis permutaciones posibles son: ABC, ACB, BAC, BCA, CAB y CBA.\n",
    "\n",
    "Por otro lado, en una combinación, se selecciona un subconjunto de objetos de un conjunto más grande sin tener en cuenta el orden. Por ejemplo, si se tienen los mismos tres objetos A, B y C, las tres combinaciones posibles de dos objetos son: AB, AC y BC.\n",
    "\n",
    "En resumen, la permutación implica ordenar elementos, mientras que la combinación implica seleccionar elementos sin importar el orden. Las permutaciones son útiles para resolver problemas que involucran ordenamiento, mientras que las combinaciones son útiles para problemas que involucran la selección de subconjuntos de objetos."
   ]
  },
  {
   "attachments": {},
   "cell_type": "markdown",
   "metadata": {},
   "source": [
    "6. ¿Cómo se calcula el número de permutaciones de n elementos tomados r a la vez en Python?\n",
    "En Python, el número de permutaciones de n elementos tomados r a la vez se puede calcular usando la función \"permutations()\" del módulo \"itertools\". Esta función devuelve un objeto iterable que contiene todas las permutaciones posibles de los elementos dados.\n",
    "\n",
    "Aquí está el código para calcular el número de permutaciones de n elementos tomados r a la vez en Python:"
   ]
  },
  {
   "cell_type": "code",
   "execution_count": 9,
   "metadata": {},
   "outputs": [
    {
     "name": "stdout",
     "output_type": "stream",
     "text": [
      "El número de permutaciones de 5 elementos tomados 3 a la vez es: 60\n"
     ]
    }
   ],
   "source": [
    "from itertools import permutations\n",
    "\n",
    "n = 5\n",
    "r = 3\n",
    "\n",
    "# Calcular el número de permutaciones de n elementos tomados r a la vez\n",
    "num_permutations = len(list(permutations(range(n), r)))\n",
    "\n",
    "print(\"El número de permutaciones de {} elementos tomados {} a la vez es: {}\".format(\n",
    "    n, r, num_permutations))"
   ]
  },
  {
   "attachments": {},
   "cell_type": "markdown",
   "metadata": {},
   "source": [
    "En este ejemplo, se calcula el número de permutaciones de 5 elementos tomados 3 a la vez. La función \"permutations()\" genera todas las permutaciones posibles de los elementos del rango \"range(n)\" tomados \"r\" a la vez. La función \"list()\" se utiliza para convertir el objeto iterable devuelto por \"permutations()\" en una lista, y la función \"len()\" se utiliza para calcular la longitud de la lista, que es el número de permutaciones. El resultado se imprime en la pantalla.\n",
    "\n",
    "El resultado sería:"
   ]
  },
  {
   "cell_type": "code",
   "execution_count": null,
   "metadata": {},
   "outputs": [
    {
     "ename": "SyntaxError",
     "evalue": "invalid syntax (2782078151.py, line 1)",
     "output_type": "error",
     "traceback": [
      "\u001b[0;36m  Cell \u001b[0;32mIn[8], line 1\u001b[0;36m\u001b[0m\n\u001b[0;31m    El número de permutaciones de 5 elementos tomados 3 a la vez es: 60\u001b[0m\n\u001b[0m       ^\u001b[0m\n\u001b[0;31mSyntaxError\u001b[0m\u001b[0;31m:\u001b[0m invalid syntax\n"
     ]
    }
   ],
   "source": [
    "El número de permutaciones de 5 elementos tomados 3 a la vez es: 60"
   ]
  },
  {
   "attachments": {},
   "cell_type": "markdown",
   "metadata": {},
   "source": [
    "7. ¿Cómo se calcula el número de combinaciones de n elementos tomados r a la vez en Python?\n",
    "En Python, el número de combinaciones de n elementos tomados r a la vez se puede calcular usando la función \"combinations()\" del módulo \"itertools\". Esta función devuelve un objeto iterable que contiene todas las combinaciones posibles de los elementos dados.\n",
    "\n",
    "Aquí está el código para calcular el número de combinaciones de n elementos tomados r a la vez en Python:"
   ]
  },
  {
   "cell_type": "code",
   "execution_count": null,
   "metadata": {},
   "outputs": [],
   "source": [
    "from itertools import combinations\n",
    "\n",
    "n = 5\n",
    "r = 3\n",
    "\n",
    "# Calcular el número de combinaciones de n elementos tomados r a la vez\n",
    "num_combinations = len(list(combinations(range(n), r)))\n",
    "\n",
    "print(\"El número de combinaciones de {} elementos tomados {} a la vez es: {}\".format(\n",
    "    n, r, num_combinations))"
   ]
  },
  {
   "attachments": {},
   "cell_type": "markdown",
   "metadata": {},
   "source": [
    "En este ejemplo, se calcula el número de combinaciones de 5 elementos tomados 3 a la vez. La función \"combinations()\" genera todas las combinaciones posibles de los elementos del rango \"range(n)\" tomados \"r\" a la vez. La función \"list()\" se utiliza para convertir el objeto iterable devuelto por \"combinations()\" en una lista, y la función \"len()\" se utiliza para calcular la longitud de la lista, que es el número de combinaciones. El resultado se imprime en la pantalla.\n",
    "\n",
    "El resultado sería:"
   ]
  },
  {
   "cell_type": "code",
   "execution_count": null,
   "metadata": {},
   "outputs": [],
   "source": [
    "El número de combinaciones de 5 elementos tomados 3 a la vez es: 10"
   ]
  },
  {
   "cell_type": "code",
   "execution_count": 17,
   "metadata": {},
   "outputs": [
    {
     "name": "stdout",
     "output_type": "stream",
     "text": [
      "24\n",
      "4\n"
     ]
    }
   ],
   "source": [
    "from itertools import permutations\n",
    "from itertools import combinations\n",
    "print(len(list(permutations(range(4), 3))))\n",
    "print(len(list(combinations(range(4), 3))))"
   ]
  },
  {
   "cell_type": "code",
   "execution_count": null,
   "metadata": {},
   "outputs": [],
   "source": [
    "print(\"xd\")"
   ]
  }
 ],
 "metadata": {
  "kernelspec": {
   "display_name": "Python 3",
   "language": "python",
   "name": "python3"
  },
  "language_info": {
   "codemirror_mode": {
    "name": "ipython",
    "version": 3
   },
   "file_extension": ".py",
   "mimetype": "text/x-python",
   "name": "python",
   "nbconvert_exporter": "python",
   "pygments_lexer": "ipython3",
   "version": "3.10.4"
  },
  "orig_nbformat": 4
 },
 "nbformat": 4,
 "nbformat_minor": 2
}
