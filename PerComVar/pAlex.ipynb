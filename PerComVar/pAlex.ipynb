{
 "cells": [
  {
   "cell_type": "code",
   "execution_count": 1,
   "metadata": {},
   "outputs": [],
   "source": [
    "from itertools import permutations\n",
    "from itertools import combinations\n",
    "import numpy as np"
   ]
  },
  {
   "cell_type": "code",
   "execution_count": 2,
   "metadata": {},
   "outputs": [],
   "source": [
    "class combi:\n",
    "  def __init__(self,n,r) -> None:\n",
    "    if type(n) is list:\n",
    "      self.n = n\n",
    "    elif type(n) is int:\n",
    "      self.n = list(range(1,n+1))\n",
    "    self.r = r    \n",
    "    self.prm =list(permutations(self.n,self.r))\n",
    "    self.nprm = len(self.prm)\n",
    "    self.com =list(combinations(self.n, self.r))\n",
    "    self.ncom = len(self.com)\n",
    "    \n",
    "  pass"
   ]
  },
  {
   "cell_type": "code",
   "execution_count": 4,
   "metadata": {},
   "outputs": [
    {
     "name": "stdout",
     "output_type": "stream",
     "text": [
      "6 [(1, 2), (1, 3), (1, 4), (2, 3), (2, 4), (3, 4)]\n"
     ]
    }
   ],
   "source": [
    "ej1 = combi(4, 2)\n",
    "print(ej1.ncom,ej1.com)"
   ]
  }
 ],
 "metadata": {
  "kernelspec": {
   "display_name": "Python 3",
   "language": "python",
   "name": "python3"
  },
  "language_info": {
   "codemirror_mode": {
    "name": "ipython",
    "version": 3
   },
   "file_extension": ".py",
   "mimetype": "text/x-python",
   "name": "python",
   "nbconvert_exporter": "python",
   "pygments_lexer": "ipython3",
   "version": "3.11.2"
  },
  "orig_nbformat": 4
 },
 "nbformat": 4,
 "nbformat_minor": 2
}
