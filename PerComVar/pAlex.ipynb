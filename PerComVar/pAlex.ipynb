{
 "cells": [
  {
   "cell_type": "code",
   "execution_count": 103,
   "metadata": {},
   "outputs": [],
   "source": [
    "from itertools import permutations\n",
    "from itertools import combinations\n",
    "import numpy as np"
   ]
  },
  {
   "cell_type": "code",
   "execution_count": 135,
   "metadata": {},
   "outputs": [],
   "source": [
    "class combi:\n",
    "  def __init__(self,n,r) -> None:\n",
    "    if type(n) is list:\n",
    "      self.n = n\n",
    "    elif type(n) is int:\n",
    "      self.n = list(range(1,n+1))\n",
    "    self.r = r    \n",
    "    self.prm =list(permutations(self.n,self.r))\n",
    "    self.nprm = len(self.prm)\n",
    "    self.com =list(combinations(self.n, self.r))\n",
    "    self.ncom = len(self.com)\n",
    "    \n",
    "  pass"
   ]
  },
  {
   "cell_type": "code",
   "execution_count": 1,
   "metadata": {},
   "outputs": [
    {
     "ename": "NameError",
     "evalue": "name 'combi' is not defined",
     "output_type": "error",
     "traceback": [
      "\u001b[1;31m---------------------------------------------------------------------------\u001b[0m",
      "\u001b[1;31mNameError\u001b[0m                                 Traceback (most recent call last)",
      "Cell \u001b[1;32mIn[1], line 1\u001b[0m\n\u001b[1;32m----> 1\u001b[0m \u001b[39mprint\u001b[39m(combi(\u001b[39m4\u001b[39m,\u001b[39m2\u001b[39m)\u001b[39m.\u001b[39mncom)\n",
      "\u001b[1;31mNameError\u001b[0m: name 'combi' is not defined"
     ]
    }
   ],
   "source": [
    "ej1 = combi(4, 2).ncom\n",
    "print()"
   ]
  }
 ],
 "metadata": {
  "kernelspec": {
   "display_name": "Python 3",
   "language": "python",
   "name": "python3"
  },
  "language_info": {
   "codemirror_mode": {
    "name": "ipython",
    "version": 3
   },
   "file_extension": ".py",
   "mimetype": "text/x-python",
   "name": "python",
   "nbconvert_exporter": "python",
   "pygments_lexer": "ipython3",
   "version": "3.11.2"
  },
  "orig_nbformat": 4
 },
 "nbformat": 4,
 "nbformat_minor": 2
}
