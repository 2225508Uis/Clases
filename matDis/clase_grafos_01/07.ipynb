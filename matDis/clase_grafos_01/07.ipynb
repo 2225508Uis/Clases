{
 "cells": [
  {
   "cell_type": "code",
   "execution_count": 10,
   "metadata": {},
   "outputs": [],
   "source": [
    "import networkx as nx\n",
    "import matplotlib.pyplot as plt\n"
   ]
  },
  {
   "cell_type": "code",
   "execution_count": 11,
   "metadata": {},
   "outputs": [],
   "source": [
    "class Grafo:\n",
    "  \n",
    "  def __init__(self,Qdirigido=False) -> None:\n",
    "      if Qdirigido == True:\n",
    "        self.G=nx.DiGraph()\n",
    "      else:\n",
    "        self.G=nx.Graph()   \n",
    "\n",
    "  def addEdge(self,grafo, u, v, w=0, D=False):\n",
    "    grafo.add_edge(u, v, weight=w)\n",
    "    if D != True:\n",
    "      grafo.add_edge(v, u, weight=w) \n",
    "\n",
    "  def printGraph(grafo, titulo):\n",
    "    pos = nx.layout.spring_layout(grafo)\n",
    "    nx.draw_networkx(grafo, pos)\n",
    "    labels = nx.get_edge_attributes(grafo, \"weight\")\n",
    "    nx.draw_networkx_edge_labels(grafo, pos, edge_labels=labels)\n",
    "    plt.title(titulo)\n",
    "    plt.show()"
   ]
  },
  {
   "cell_type": "code",
   "execution_count": 12,
   "metadata": {},
   "outputs": [
    {
     "ename": "AttributeError",
     "evalue": "'str' object has no attribute 'add_edge'",
     "output_type": "error",
     "traceback": [
      "\u001b[1;31m---------------------------------------------------------------------------\u001b[0m",
      "\u001b[1;31mAttributeError\u001b[0m                            Traceback (most recent call last)",
      "Cell \u001b[1;32mIn[12], line 3\u001b[0m\n\u001b[0;32m      1\u001b[0m grafo2 \u001b[39m=\u001b[39m nx\u001b[39m.\u001b[39mGraph()\n\u001b[1;32m----> 3\u001b[0m Grafo\u001b[39m.\u001b[39;49maddEdge(grafo2, \u001b[39m\"\u001b[39;49m\u001b[39ma\u001b[39;49m\u001b[39m\"\u001b[39;49m, \u001b[39m\"\u001b[39;49m\u001b[39mb\u001b[39;49m\u001b[39m\"\u001b[39;49m, \u001b[39m2\u001b[39;49m)\n\u001b[0;32m      4\u001b[0m Grafo\u001b[39m.\u001b[39maddEdge(grafo2, \u001b[39m\"\u001b[39m\u001b[39ma\u001b[39m\u001b[39m\"\u001b[39m, \u001b[39m\"\u001b[39m\u001b[39mh\u001b[39m\u001b[39m\"\u001b[39m, \u001b[39m7\u001b[39m)\n\u001b[0;32m      5\u001b[0m Grafo\u001b[39m.\u001b[39maddEdge(grafo2, \u001b[39m\"\u001b[39m\u001b[39ma\u001b[39m\u001b[39m\"\u001b[39m, \u001b[39m\"\u001b[39m\u001b[39mg\u001b[39m\u001b[39m\"\u001b[39m, \u001b[39m10\u001b[39m)\n",
      "Cell \u001b[1;32mIn[11], line 12\u001b[0m, in \u001b[0;36mGrafo.addEdge\u001b[1;34m(self, grafo, u, v, w, D)\u001b[0m\n\u001b[0;32m     11\u001b[0m \u001b[39mdef\u001b[39;00m \u001b[39maddEdge\u001b[39m(\u001b[39mself\u001b[39m,grafo, u, v, w\u001b[39m=\u001b[39m\u001b[39m0\u001b[39m, D\u001b[39m=\u001b[39m\u001b[39mFalse\u001b[39;00m):\n\u001b[1;32m---> 12\u001b[0m   grafo\u001b[39m.\u001b[39;49madd_edge(u, v, weight\u001b[39m=\u001b[39mw)\n\u001b[0;32m     13\u001b[0m   \u001b[39mif\u001b[39;00m D \u001b[39m!=\u001b[39m \u001b[39mTrue\u001b[39;00m:\n\u001b[0;32m     14\u001b[0m     grafo\u001b[39m.\u001b[39madd_edge(v, u, weight\u001b[39m=\u001b[39mw)\n",
      "\u001b[1;31mAttributeError\u001b[0m: 'str' object has no attribute 'add_edge'"
     ]
    }
   ],
   "source": [
    "grafo2 = nx.Graph()\n",
    "\n",
    "Grafo.addEdge(grafo2, \"a\", \"b\", 2)\n",
    "Grafo.addEdge(grafo2, \"a\", \"h\", 7)\n",
    "Grafo.addEdge(grafo2, \"a\", \"g\", 10)\n",
    "Grafo.addEdge(grafo2, \"a\", \"b\",2)\n",
    "Grafo.addEdge(grafo2, \"a\", \"h\",7)\n",
    "Grafo.addEdge(grafo2, \"a\", \"g\",4)\n",
    "\n",
    "Grafo.addEdge(grafo2, \"b\", \"a\",2)\n",
    "Grafo.addEdge(grafo2, \"b\", \"g\",2)\n",
    "Grafo.addEdge(grafo2, \"b\", \"c\",7)\n",
    "Grafo.addEdge(grafo2, \"b\", \"d\",2)\n",
    "Grafo.addEdge(grafo2, \"c\", \"d\",5)\n",
    "Grafo.addEdge(grafo2, \"c\", \"b\",7)\n",
    "Grafo.addEdge(grafo2, \"c\", \"h\",2)\n",
    "\n",
    "Grafo.addEdge(grafo2, \"d\", \"b\",2)\n",
    "Grafo.addEdge(grafo2, \"d\", \"a\",5)\n",
    "Grafo.addEdge(grafo2, \"d\", \"e\",1)\n",
    "Grafo.addEdge(grafo2, \"d\", \"c\",5)\n",
    "\n",
    "Grafo.addEdge(grafo2, \"e\", \"d\",1)\n",
    "Grafo.addEdge(grafo2, \"e\", \"h\",1)\n",
    "Grafo.addEdge(grafo2, \"e\", \"g\",3)\n",
    "Grafo.addEdge(grafo2, \"e\", \"f\",3)\n",
    "\n",
    "Grafo.addEdge(grafo2, \"f\", \"e\",3)\n",
    "Grafo.addEdge(grafo2, \"f\", \"h\",6)\n",
    "Grafo.addEdge(grafo2, \"f\", \"g\",3)\n",
    "\n",
    "Grafo.addEdge(grafo2, \"g\", \"a\",4)\n",
    "Grafo.addEdge(grafo2, \"g\", \"b\",2)\n",
    "Grafo.addEdge(grafo2, \"g\", \"e\",3)\n",
    "Grafo.addEdge(grafo2, \"g\", \"f\",3)\n",
    "\n",
    "Grafo.addEdge(grafo2, \"h\", \"a\",7)\n",
    "Grafo.addEdge(grafo2, \"h\", \"f\",6)\n",
    "Grafo.addEdge(grafo2, \"h\", \"e\",1)\n",
    "Grafo.addEdge(grafo2, \"h\", \"c\",2)\n",
    "\n",
    "Grafo.printGraph(grafo2,\"grafo2\")"
   ]
  }
 ],
 "metadata": {
  "kernelspec": {
   "display_name": "Python 3",
   "language": "python",
   "name": "python3"
  },
  "language_info": {
   "codemirror_mode": {
    "name": "ipython",
    "version": 3
   },
   "file_extension": ".py",
   "mimetype": "text/x-python",
   "name": "python",
   "nbconvert_exporter": "python",
   "pygments_lexer": "ipython3",
   "version": "3.11.2"
  },
  "orig_nbformat": 4
 },
 "nbformat": 4,
 "nbformat_minor": 2
}
