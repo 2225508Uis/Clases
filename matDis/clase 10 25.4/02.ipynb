{
 "cells": [
  {
   "cell_type": "code",
   "execution_count": 10,
   "metadata": {},
   "outputs": [],
   "source": [
    "from itertools import permutations\n",
    "from itertools import combinations\n",
    "\n",
    "class GeneradorPermucationes:\n",
    "  def __init__(self,Parametro_letras,nmr) -> None:\n",
    "    self.letras=Parametro_letras\n",
    "    self.nmr=nmr\n",
    "  def Imprimir(self):\n",
    "    resultado_permutaciones = list(permutations(self.letras, self.nmr))\n",
    "    print(\"numero de permutaciones: \",len(resultado_permutaciones),\"agrupado de a: \",self.nmr)\n",
    "    for i in resultado_permutaciones:      \n",
    "      print(list(i))\n",
    "\n",
    "\n",
    "class GeneradorCombinaciones:\n",
    "  def __init__(self, Parametro_letras,nmr) -> None:\n",
    "    self.letras = Parametro_letras\n",
    "    self.nmr=nmr\n",
    "  def Imprimir(self):\n",
    "    resultado_Combinaciones = list(combinations(self.letras, self.nmr))\n",
    "    print(\"numero combinaciones: \", len(resultado_Combinaciones), \"agrupado de a: \", self.nmr)\n",
    "    for i in resultado_Combinaciones:\n",
    "      print(list(i))"
   ]
  },
  {
   "cell_type": "code",
   "execution_count": 11,
   "metadata": {},
   "outputs": [
    {
     "name": "stdout",
     "output_type": "stream",
     "text": [
      "numero de permutaciones:  24 agrupado de a:  4\n",
      "['a', 'b', 'c', 'd']\n",
      "['a', 'b', 'd', 'c']\n",
      "['a', 'c', 'b', 'd']\n",
      "['a', 'c', 'd', 'b']\n",
      "['a', 'd', 'b', 'c']\n",
      "['a', 'd', 'c', 'b']\n",
      "['b', 'a', 'c', 'd']\n",
      "['b', 'a', 'd', 'c']\n",
      "['b', 'c', 'a', 'd']\n",
      "['b', 'c', 'd', 'a']\n",
      "['b', 'd', 'a', 'c']\n",
      "['b', 'd', 'c', 'a']\n",
      "['c', 'a', 'b', 'd']\n",
      "['c', 'a', 'd', 'b']\n",
      "['c', 'b', 'a', 'd']\n",
      "['c', 'b', 'd', 'a']\n",
      "['c', 'd', 'a', 'b']\n",
      "['c', 'd', 'b', 'a']\n",
      "['d', 'a', 'b', 'c']\n",
      "['d', 'a', 'c', 'b']\n",
      "['d', 'b', 'a', 'c']\n",
      "['d', 'b', 'c', 'a']\n",
      "['d', 'c', 'a', 'b']\n",
      "['d', 'c', 'b', 'a']\n",
      "\n",
      "\n",
      "numero combinaciones:  1 agrupado de a:  4\n",
      "['a', 'b', 'c', 'd']\n"
     ]
    }
   ],
   "source": [
    "lista=[\"a\",\"b\",\"c\",\"d\"]\n",
    "obj = GeneradorPermucationes(lista,4)\n",
    "obj.Imprimir()\n",
    "\n",
    "print(\"\\n\")\n",
    "\n",
    "obj = GeneradorCombinaciones(lista,4)\n",
    "obj.Imprimir()\n"
   ]
  }
 ],
 "metadata": {
  "kernelspec": {
   "display_name": "Python 3",
   "language": "python",
   "name": "python3"
  },
  "language_info": {
   "codemirror_mode": {
    "name": "ipython",
    "version": 3
   },
   "file_extension": ".py",
   "mimetype": "text/x-python",
   "name": "python",
   "nbconvert_exporter": "python",
   "pygments_lexer": "ipython3",
   "version": "3.11.2"
  },
  "orig_nbformat": 4
 },
 "nbformat": 4,
 "nbformat_minor": 2
}
