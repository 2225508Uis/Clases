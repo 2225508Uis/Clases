{
 "cells": [
  {
   "cell_type": "code",
   "execution_count": 60,
   "metadata": {},
   "outputs": [],
   "source": [
    "from itertools import permutations\n",
    "from itertools import combinations\n",
    "\n",
    "class GeneradorPermucationes:\n",
    "  def __init__(self,Parametro_letras) -> None:\n",
    "    self.letras=Parametro_letras\n",
    "    \n",
    "  def Imprimir(self):\n",
    "    resultado_permutaciones = permutations(self.letras)\n",
    "    for i in resultado_permutaciones:\n",
    "      print(list(i))\n",
    "\n",
    "\n",
    "class GeneradorCombinaciones:\n",
    "  def __init__(self, Parametro_letras) -> None:\n",
    "    self.letras = Parametro_letras\n",
    "\n",
    "  def Imprimir(self):\n",
    "    resultado_permutaciones = permutations(self.letras)\n",
    "    for i in resultado_permutaciones:\n",
    "      print(list(i))"
   ]
  },
  {
   "cell_type": "code",
   "execution_count": 73,
   "metadata": {},
   "outputs": [
    {
     "name": "stdout",
     "output_type": "stream",
     "text": [
      "['a', 'b', 'c']\n",
      "['a', 'c', 'b']\n",
      "['b', 'a', 'c']\n",
      "['b', 'c', 'a']\n",
      "['c', 'a', 'b']\n",
      "['c', 'b', 'a']\n",
      "\n",
      "\n",
      "['a', 'b', 'c']\n",
      "['a', 'c', 'b']\n",
      "['b', 'a', 'c']\n",
      "['b', 'c', 'a']\n",
      "['c', 'a', 'b']\n",
      "['c', 'b', 'a']\n"
     ]
    }
   ],
   "source": [
    "lista=[\"a\",\"b\",\"c\"]\n",
    "obj = GeneradorPermucationes(lista)\n",
    "obj.Imprimir()\n",
    "\n",
    "print(\"\\n\")\n",
    "\n",
    "obj = GeneradorCombinaciones(lista)\n",
    "obj.Imprimir()\n"
   ]
  }
 ],
 "metadata": {
  "kernelspec": {
   "display_name": "Python 3",
   "language": "python",
   "name": "python3"
  },
  "language_info": {
   "codemirror_mode": {
    "name": "ipython",
    "version": 3
   },
   "file_extension": ".py",
   "mimetype": "text/x-python",
   "name": "python",
   "nbconvert_exporter": "python",
   "pygments_lexer": "ipython3",
   "version": "3.11.2"
  },
  "orig_nbformat": 4
 },
 "nbformat": 4,
 "nbformat_minor": 2
}
