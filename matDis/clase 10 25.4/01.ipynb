{
 "cells": [
  {
   "cell_type": "code",
   "execution_count": 12,
   "metadata": {},
   "outputs": [],
   "source": [
    "from itertools import *\n",
    "class UisMalaga:\n",
    "  def __init__(self,nombre,edad,carrera) -> None:\n",
    "    self.nombre=nombre\n",
    "    self.edad=edad\n",
    "    self.carrera=carrera\n",
    "    \n",
    "  def imprimir(self):\n",
    "    print(self.nombre)\n",
    "    print(self.edad)\n",
    "    print(self.carrera)\n"
   ]
  },
  {
   "cell_type": "code",
   "execution_count": 13,
   "metadata": {},
   "outputs": [
    {
     "name": "stdout",
     "output_type": "stream",
     "text": [
      "david\n",
      "22\n",
      "sistemas\n"
     ]
    }
   ],
   "source": [
    "obj = UisMalaga(\"david\",22,\"sistemas\")\n",
    "obj.imprimir()"
   ]
  },
  {
   "cell_type": "code",
   "execution_count": 14,
   "metadata": {},
   "outputs": [
    {
     "ename": "ValueError",
     "evalue": "invalid literal for int() with base 10: ''",
     "output_type": "error",
     "traceback": [
      "\u001b[1;31m---------------------------------------------------------------------------\u001b[0m",
      "\u001b[1;31mValueError\u001b[0m                                Traceback (most recent call last)",
      "Cell \u001b[1;32mIn[14], line 1\u001b[0m\n\u001b[1;32m----> 1\u001b[0m opcion\u001b[39m=\u001b[39m\u001b[39mint\u001b[39;49m(\u001b[39minput\u001b[39;49m(\u001b[39m\"\u001b[39;49m\u001b[39mdigite la opcion: \u001b[39;49m\u001b[39m\"\u001b[39;49m))\n\u001b[0;32m      2\u001b[0m \u001b[39mmatch\u001b[39;00m opcion:\n\u001b[0;32m      3\u001b[0m   \u001b[39mcase\u001b[39;00m \u001b[39m0\u001b[39m \u001b[39m|\u001b[39m \u001b[39m1\u001b[39m:\n",
      "\u001b[1;31mValueError\u001b[0m: invalid literal for int() with base 10: ''"
     ]
    }
   ],
   "source": [
    "opcion=int(input(\"digite la opcion: \"))\n",
    "match opcion:\n",
    "  case 0 | 1:\n",
    "    pass\n",
    "  case 1:\n",
    "    pass\n",
    "  case 2:\n",
    "    pass\n",
    "  case 3:\n",
    "    pass\n",
    "  case _:\n",
    "    pass"
   ]
  }
 ],
 "metadata": {
  "kernelspec": {
   "display_name": "Python 3",
   "language": "python",
   "name": "python3"
  },
  "language_info": {
   "codemirror_mode": {
    "name": "ipython",
    "version": 3
   },
   "file_extension": ".py",
   "mimetype": "text/x-python",
   "name": "python",
   "nbconvert_exporter": "python",
   "pygments_lexer": "ipython3",
   "version": "3.11.2"
  },
  "orig_nbformat": 4
 },
 "nbformat": 4,
 "nbformat_minor": 2
}
