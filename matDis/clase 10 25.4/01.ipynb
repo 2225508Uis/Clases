{
 "cells": [
  {
   "cell_type": "code",
   "execution_count": 3,
   "metadata": {},
   "outputs": [],
   "source": [
    "from itertools import *\n",
    "class UisMalaga:\n",
    "  def __init__(self,nombre,edad,carrera) -> None:\n",
    "    self.nombre=nombre\n",
    "    self.edad=edad\n",
    "    self.carrera=carrera\n",
    "    \n",
    "  def imprimir(self):\n",
    "    print(self.nombre)\n",
    "    print(self.edad)\n",
    "    print(self.carrera)\n"
   ]
  },
  {
   "cell_type": "code",
   "execution_count": 4,
   "metadata": {},
   "outputs": [
    {
     "data": {
      "text/plain": [
       "<bound method UisMalaga.imprimir of <__main__.UisMalaga object at 0x000002BF56B83410>>"
      ]
     },
     "execution_count": 4,
     "metadata": {},
     "output_type": "execute_result"
    }
   ],
   "source": [
    "obj = UisMalaga(\"david\",22,\"sistemas\")\n",
    "obj.imprimir"
   ]
  },
  {
   "cell_type": "code",
   "execution_count": 5,
   "metadata": {},
   "outputs": [],
   "source": [
    "opcion=int(input(\"digite la opcion: \"))\n",
    "match opcion:\n",
    "  case 0:\n",
    "    pass\n",
    "  case 1:\n",
    "    pass\n",
    "  case 2:\n",
    "    pass\n",
    "  case 3:\n",
    "    pass\n",
    "  case _:\n",
    "    pass"
   ]
  }
 ],
 "metadata": {
  "kernelspec": {
   "display_name": "Python 3",
   "language": "python",
   "name": "python3"
  },
  "language_info": {
   "codemirror_mode": {
    "name": "ipython",
    "version": 3
   },
   "file_extension": ".py",
   "mimetype": "text/x-python",
   "name": "python",
   "nbconvert_exporter": "python",
   "pygments_lexer": "ipython3",
   "version": "3.11.2"
  },
  "orig_nbformat": 4
 },
 "nbformat": 4,
 "nbformat_minor": 2
}
