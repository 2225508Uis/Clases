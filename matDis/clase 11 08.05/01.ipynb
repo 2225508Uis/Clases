{
 "cells": [
  {
   "cell_type": "code",
   "execution_count": null,
   "metadata": {},
   "outputs": [],
   "source": [
    "class empleado:\n",
    "  def __init__(self, p1, p2) -> None:\n",
    "    self.p1 = p1\n",
    "    self.p2 = p2\n",
    "    pass\n"
   ]
  },
  {
   "cell_type": "code",
   "execution_count": 5,
   "metadata": {},
   "outputs": [
    {
     "ename": "AttributeError",
     "evalue": "'str' object has no attribute 'value'",
     "output_type": "error",
     "traceback": [
      "\u001b[1;31m---------------------------------------------------------------------------\u001b[0m",
      "\u001b[1;31mAttributeError\u001b[0m                            Traceback (most recent call last)",
      "Cell \u001b[1;32mIn[5], line 16\u001b[0m\n\u001b[0;32m     13\u001b[0m limite \u001b[39m=\u001b[39m \u001b[39m100\u001b[39m\n\u001b[0;32m     15\u001b[0m \u001b[39mfor\u001b[39;00m llave,valor \u001b[39min\u001b[39;00m paquetes\u001b[39m.\u001b[39mitems():\n\u001b[1;32m---> 16\u001b[0m   \u001b[39mif\u001b[39;00m i\u001b[39m.\u001b[39;49mvalue \u001b[39m<\u001b[39m\u001b[39m=\u001b[39m limite:\n\u001b[0;32m     17\u001b[0m     \u001b[39mprint\u001b[39m(i\u001b[39m.\u001b[39mvalue)\n\u001b[0;32m     18\u001b[0m     \u001b[39mpass\u001b[39;00m\n",
      "\u001b[1;31mAttributeError\u001b[0m: 'str' object has no attribute 'value'"
     ]
    }
   ],
   "source": [
    "paquetes ={\n",
    "  \"p1\" : 12,\n",
    "  \"p2\" : 15,\n",
    "  \"p3\" : 10,\n",
    "  \"p4\" : 5,\n",
    "  \"p5\" : 11,\n",
    "  \"p6\" : 13\n",
    "}\n",
    "repartidores = {\n",
    "  \n",
    "}\n",
    "\n",
    "limite = 100\n",
    "\n",
    "for llave,valor in paquetes.items():\n",
    "  if i.value <= limite:\n",
    "    print(i.value)\n",
    "    pass\n",
    "\n",
    "#bucle que imprima las llaves y valores de un diccionario python"
   ]
  }
 ],
 "metadata": {
  "kernelspec": {
   "display_name": "Python 3",
   "language": "python",
   "name": "python3"
  },
  "language_info": {
   "codemirror_mode": {
    "name": "ipython",
    "version": 3
   },
   "file_extension": ".py",
   "mimetype": "text/x-python",
   "name": "python",
   "nbconvert_exporter": "python",
   "pygments_lexer": "ipython3",
   "version": "3.11.2"
  },
  "orig_nbformat": 4
 },
 "nbformat": 4,
 "nbformat_minor": 2
}
