{
 "cells": [
  {
   "cell_type": "code",
   "execution_count": 129,
   "metadata": {},
   "outputs": [],
   "source": [
    "class Empleado:\n",
    "  def __init__(self, nombre, limite) -> None:\n",
    "    self.nombre = nombre\n",
    "    self.paquetes = {}\n",
    "    self.pesoCargado = 0    \n",
    "    self.pesoLimite = limite\n",
    "    pass\n",
    "  \n",
    "  def preguntar(self,peso):\n",
    "    acumulador = 0\n",
    "    for i in self.paquetes.values():\n",
    "      acumulador += i\n",
    "    if self.pesoCargado+peso <= self.pesoLimite:\n",
    "      return True\n",
    "    else:\n",
    "      return False      \n",
    "    pass\n",
    "  \n",
    "  def asignarPaquete(self,clave,valor):\n",
    "    self.paquetes[clave] = valor\n",
    "    self.pesoCargado += valor\n",
    "    pass\n",
    "  \n",
    "  def imprimir(self):\n",
    "    print(\"nombre:\\t \\t \\t\", self.nombre)\n",
    "    print(\"paquetes:\\t \\t \\t\", self.paquetes)\n",
    "    print(\"peso cargado:\\t \\t\", self.pesoCargado)\n",
    "    print(\"peso limite:\\t \\t\", self.pesoLimite)\n",
    "    print(\"----------------------------------------------------------------\")\n",
    "    pass\n"
   ]
  },
  {
   "cell_type": "code",
   "execution_count": 130,
   "metadata": {},
   "outputs": [
    {
     "name": "stdout",
     "output_type": "stream",
     "text": [
      "se creo nuevo empleado y se le entrego el paquete\n",
      "no cabe y se le asigno el paquete a alguien mas\n",
      "no cabe y se le asigno el paquete a alguien mas\n",
      "si cabe y se asigno el paquete\n",
      "no cabe y se le asigno el paquete a alguien mas\n",
      "no cabe y se le asigno el paquete a alguien mas\n",
      "repartidores: \n",
      "nombre:\t \t \t empleado 1\n",
      "paquetes:\t \t \t {'p1': 12, 'p4': 5}\n",
      "peso cargado:\t \t 17\n",
      "peso limite:\t \t 20\n",
      "----------------------------------------------------------------\n",
      "None\n",
      "nombre:\t \t \t empleado 1\n",
      "paquetes:\t \t \t {'p1': 12, 'p4': 5}\n",
      "peso cargado:\t \t 17\n",
      "peso limite:\t \t 20\n",
      "----------------------------------------------------------------\n",
      "None\n"
     ]
    }
   ],
   "source": [
    "paquetes ={\n",
    "  \"p1\" : 12,\n",
    "  \"p2\" : 15,\n",
    "  \"p3\" : 10,\n",
    "  \"p4\" : 5,\n",
    "  \"p5\" : 11,\n",
    "  \"p6\" : 13\n",
    "}\n",
    "repartidores = []\n",
    "\n",
    "limite = 20\n",
    "nombreP = \"empleado \"\n",
    "nombreI = 1\n",
    "\n",
    "for llave,valor in paquetes.items():\n",
    "  if valor <= limite:\n",
    "    if len(repartidores) == 0:\n",
    "      nombre = nombreP + str(nombreI)\n",
    "      empleado = Empleado(nombre, limite)\n",
    "      nombreI += 1\n",
    "      repartidores.append(empleado)\n",
    "      empleado.asignarPaquete(llave, valor)\n",
    "      print(\"se creo nuevo empleado y se le entrego el paquete\")\n",
    "      pass\n",
    "    elif empleado.preguntar(valor) ==True:\n",
    "      empleado.asignarPaquete(llave,valor)\n",
    "      repartidores.append(empleado)\n",
    "      print(\"si cabe y se asigno el paquete\")\n",
    "      pass\n",
    "    elif empleado.preguntar(valor) ==False:\n",
    "      print(\"no cabe y se le asigno el paquete a alguien mas\")\n",
    "      pass\n",
    "    pass\n",
    "\n",
    "\n",
    "print(\"repartidores: \")\n",
    "for i in repartidores: \n",
    "  print(i.imprimir())\n",
    "\n",
    "    \n"
   ]
  }
 ],
 "metadata": {
  "kernelspec": {
   "display_name": "Python 3",
   "language": "python",
   "name": "python3"
  },
  "language_info": {
   "codemirror_mode": {
    "name": "ipython",
    "version": 3
   },
   "file_extension": ".py",
   "mimetype": "text/x-python",
   "name": "python",
   "nbconvert_exporter": "python",
   "pygments_lexer": "ipython3",
   "version": "3.11.2"
  },
  "orig_nbformat": 4
 },
 "nbformat": 4,
 "nbformat_minor": 2
}
