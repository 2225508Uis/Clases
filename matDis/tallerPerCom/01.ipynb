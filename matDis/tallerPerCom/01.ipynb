{
 "cells": [
  {
   "cell_type": "code",
   "execution_count": 5,
   "metadata": {},
   "outputs": [],
   "source": [
    "from itertools import permutations\n",
    "from itertools import combinations\n",
    "import numpy as np\n"
   ]
  },
  {
   "cell_type": "code",
   "execution_count": 27,
   "metadata": {},
   "outputs": [],
   "source": [
    "class combi:\n",
    "  def __init__(self, n, r) -> None:\n",
    "    if type(n) is list:\n",
    "      self.n = n\n",
    "    elif type(n) is int:\n",
    "      self.n = list(range(1, n+1))\n",
    "    self.r = r\n",
    "    self.prm = list(permutations(self.n, self.r))\n",
    "    self.nprm = len(self.prm)\n",
    "    self.com = list(combinations(self.n, self.r))\n",
    "    self.ncom = len(self.com)\n",
    "\n",
    "  def prt(self, t, p):\n",
    "    if t == \"p\":\n",
    "      print(\"permutacion\")\n",
    "      if p == 1:\n",
    "        print(self.nprm)\n",
    "      elif p == 2:\n",
    "        print(self.prm)\n",
    "      elif p == 3:\n",
    "        print(self.nprm, self.prm)\n",
    "    if t == \"c\":\n",
    "      print(\"combinacion\")\n",
    "      if p == 1:\n",
    "        print(self.ncom)\n",
    "      elif p == 2:\n",
    "        print(self.com)\n",
    "      elif p == 3:\n",
    "        print(self.ncom, self.com)\n",
    "  pass\n"
   ]
  },
  {
   "attachments": {},
   "cell_type": "markdown",
   "metadata": {},
   "source": [
    "1)  Eduardo, Carlos y Sergio se han presentado a un concurso de pintura. El concurso\n",
    "otorga $200 al primer lugar y $100 al segundo. ¿De cuántas formas se pueden\n",
    "repartir los premios de primer y segundo lugar?"
   ]
  },
  {
   "cell_type": "code",
   "execution_count": 28,
   "metadata": {},
   "outputs": [
    {
     "name": "stdout",
     "output_type": "stream",
     "text": [
      "permutacion\n",
      "6 [('eduardo', 'carlos'), ('eduardo', 'sergio'), ('carlos', 'eduardo'), ('carlos', 'sergio'), ('sergio', 'eduardo'), ('sergio', 'carlos')]\n"
     ]
    }
   ],
   "source": [
    "ej1 = combi([\"eduardo\", \"carlos\", \"sergio\"], 2)\n",
    "ej1.prt(\"p\",3)"
   ]
  },
  {
   "attachments": {},
   "cell_type": "markdown",
   "metadata": {},
   "source": [
    "2.  Un chef va a preparar una ensalada de verduras con tomate, zanahoria, papa y\n",
    "brócoli. ¿De cuántas formas se puede preparar la ensalada usando solo 2\n",
    "ingredientes?"
   ]
  },
  {
   "cell_type": "code",
   "execution_count": 11,
   "metadata": {},
   "outputs": [
    {
     "name": "stdout",
     "output_type": "stream",
     "text": [
      "combinacion\n",
      "6 [('tomate', 'zanahoria'), ('tomate', 'papa'), ('tomate', 'brócoli'), ('zanahoria', 'papa'), ('zanahoria', 'brócoli'), ('papa', 'brócoli')]\n"
     ]
    }
   ],
   "source": [
    "ej2 = combi([\"tomate\", \"zanahoria\", \"papa\",\"brócoli\"],2)\n",
    "ej2.prt(\"c\",3)"
   ]
  },
  {
   "attachments": {},
   "cell_type": "markdown",
   "metadata": {},
   "source": [
    "3.  Se va a programar un torneo de ajedrez para los 10 integrantes de un club.\n",
    "¿Cuántos partidos se deben programar si cada integrante jugará con cada uno\n",
    "de los demás sin partidos de revancha?"
   ]
  },
  {
   "cell_type": "code",
   "execution_count": 15,
   "metadata": {},
   "outputs": [
    {
     "name": "stdout",
     "output_type": "stream",
     "text": [
      "combinacion\n",
      "45 [(1, 2), (1, 3), (1, 4), (1, 5), (1, 6), (1, 7), (1, 8), (1, 9), (1, 10), (2, 3), (2, 4), (2, 5), (2, 6), (2, 7), (2, 8), (2, 9), (2, 10), (3, 4), (3, 5), (3, 6), (3, 7), (3, 8), (3, 9), (3, 10), (4, 5), (4, 6), (4, 7), (4, 8), (4, 9), (4, 10), (5, 6), (5, 7), (5, 8), (5, 9), (5, 10), (6, 7), (6, 8), (6, 9), (6, 10), (7, 8), (7, 9), (7, 10), (8, 9), (8, 10), (9, 10)]\n"
     ]
    }
   ],
   "source": [
    "ej3 = combi(10,2)\n",
    "ej3.prt(\"c\",3)"
   ]
  },
  {
   "attachments": {},
   "cell_type": "markdown",
   "metadata": {},
   "source": [
    "4.  Considera un grupo de 10 estudiantes de los cuales 4 son mujeres y 6 son\n",
    "hombres. De acuerdo con esa información, determine:"
   ]
  },
  {
   "attachments": {},
   "cell_type": "markdown",
   "metadata": {},
   "source": [
    "a) El número de formas en que se puede elegir un representante del grupo."
   ]
  },
  {
   "cell_type": "code",
   "execution_count": 29,
   "metadata": {},
   "outputs": [
    {
     "name": "stdout",
     "output_type": "stream",
     "text": [
      "combinacion\n",
      "10 [(1,), (2,), (3,), (4,), (5,), (6,), (7,), (8,), (9,), (10,)]\n"
     ]
    }
   ],
   "source": [
    "ej4_1 = combi(10,1)\n",
    "ej4_1.prt(\"c\",3)"
   ]
  },
  {
   "attachments": {},
   "cell_type": "markdown",
   "metadata": {},
   "source": [
    "b) El número de formas en que se puede elegir un comité de 3 miembros, donde\n",
    "al menos uno de los miembros sea mujer."
   ]
  },
  {
   "cell_type": "code",
   "execution_count": 45,
   "metadata": {},
   "outputs": [
    {
     "name": "stdout",
     "output_type": "stream",
     "text": [
      "60\n",
      "96\n",
      "= 100\n"
     ]
    }
   ],
   "source": [
    "# si 1m ton 2h\n",
    "ej4_2=combi(4, 1).ncom*combi(6,2).ncom\n",
    "print(ej4_2)\n",
    "#si 2m ton 1h\n",
    "ej4_2 += combi(4, 2).ncom*combi(6, 1).ncom\n",
    "print(ej4_2)\n",
    "#si m3 tom h0\n",
    "ej4_2 += combi(4, 3).ncom\n",
    "print(\"=\",ej4_2)\n"
   ]
  }
 ],
 "metadata": {
  "kernelspec": {
   "display_name": "Python 3",
   "language": "python",
   "name": "python3"
  },
  "language_info": {
   "codemirror_mode": {
    "name": "ipython",
    "version": 3
   },
   "file_extension": ".py",
   "mimetype": "text/x-python",
   "name": "python",
   "nbconvert_exporter": "python",
   "pygments_lexer": "ipython3",
   "version": "3.11.2"
  },
  "orig_nbformat": 4
 },
 "nbformat": 4,
 "nbformat_minor": 2
}
