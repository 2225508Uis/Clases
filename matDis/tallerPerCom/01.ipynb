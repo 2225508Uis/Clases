{
 "cells": [
  {
   "cell_type": "code",
   "execution_count": null,
   "metadata": {},
   "outputs": [],
   "source": [
    "from itertools import permutations\n",
    "from itertools import combinations\n",
    "import numpy as np\n"
   ]
  },
  {
   "cell_type": "code",
   "execution_count": null,
   "metadata": {},
   "outputs": [],
   "source": [
    "class combi:\n",
    "  def __init__(self, n, r) -> None:\n",
    "    if type(n) is list:\n",
    "      self.n = n\n",
    "    elif type(n) is int:\n",
    "      self.n = list(range(1, n+1))\n",
    "    self.r = r\n",
    "    self.prm = list(permutations(self.n, self.r))\n",
    "    self.nprm = len(self.prm)\n",
    "    self.com = list(combinations(self.n, self.r))\n",
    "    self.ncom = len(self.com)\n",
    "\n",
    "  def prt(self, t, p):\n",
    "    if t == \"p\":\n",
    "      print(\"permutacion\")\n",
    "      if p == 1:\n",
    "        print(self.nprm)\n",
    "      elif p == 2:\n",
    "        print(self.prm)\n",
    "      elif p == 3:\n",
    "        print(self.nprm, self.prm)\n",
    "    if t == \"c\":\n",
    "      print(\"combinacion\")\n",
    "      if p == 1:\n",
    "        print(self.ncom)\n",
    "      elif p == 2:\n",
    "        print(self.com)\n",
    "      elif p == 3:\n",
    "        print(self.ncom, self.com)\n",
    "  pass\n"
   ]
  }
 ],
 "metadata": {
  "language_info": {
   "name": "python"
  },
  "orig_nbformat": 4
 },
 "nbformat": 4,
 "nbformat_minor": 2
}
