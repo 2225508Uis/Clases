{
 "cells": [
  {
   "cell_type": "code",
   "execution_count": 2,
   "metadata": {},
   "outputs": [],
   "source": [
    "from itertools import permutations\n",
    "from itertools import combinations\n",
    "from itertools import combinations_with_replacement\n",
    "import numpy as np\n"
   ]
  },
  {
   "cell_type": "code",
   "execution_count": 4,
   "metadata": {},
   "outputs": [],
   "source": [
    "class combi:\n",
    "  def __init__(self, n, r) -> None:\n",
    "    if type(n) is list:\n",
    "      self.n = n\n",
    "    elif type(n) is int:\n",
    "      self.n = list(range(1, n+1))\n",
    "    self.r = r\n",
    "    self.prm = list(permutations(self.n, self.r))\n",
    "    self.nprm = len(self.prm)\n",
    "    self.com = list(combinations(self.n, self.r))\n",
    "    self.ncom = len(self.com)\n",
    "\n",
    "  def prt(self, t, p):\n",
    "    if t == \"p\":\n",
    "      print(\"permutacion\")\n",
    "      if p == 1:\n",
    "        print(self.nprm)\n",
    "      elif p == 2:\n",
    "        print(self.prm)\n",
    "      elif p == 3:\n",
    "        print(self.nprm, self.prm)\n",
    "    if t == \"c\":\n",
    "      print(\"combinacion\")\n",
    "      if p == 1:\n",
    "        print(self.ncom)\n",
    "      elif p == 2:\n",
    "        print(self.com)\n",
    "      elif p == 3:\n",
    "        print(self.ncom, self.com)\n",
    "  pass\n"
   ]
  },
  {
   "attachments": {},
   "cell_type": "markdown",
   "metadata": {},
   "source": [
    "1. ¿De cuántas formas pueden colocarse los 11 jugadores de un equipo de fútbol\n",
    "teniendo en cuenta que el portero no puede ocupar otra posición distinta que\n",
    "la portería?"
   ]
  },
  {
   "cell_type": "code",
   "execution_count": 3,
   "metadata": {},
   "outputs": [
    {
     "name": "stdout",
     "output_type": "stream",
     "text": [
      "3628800\n"
     ]
    }
   ],
   "source": [
    "print(combi(10,10).nprm)"
   ]
  },
  {
   "attachments": {},
   "cell_type": "markdown",
   "metadata": {},
   "source": [
    "2. Una mesa presidencial está formada por ocho personas, ¿De cuántas formas\n",
    "distintas se pueden sentar, si el presidente y el secretario siempre van juntos?"
   ]
  },
  {
   "cell_type": "code",
   "execution_count": 4,
   "metadata": {},
   "outputs": [
    {
     "name": "stdout",
     "output_type": "stream",
     "text": [
      "10080\n"
     ]
    }
   ],
   "source": [
    "print(combi(7,7).nprm*2)"
   ]
  },
  {
   "attachments": {},
   "cell_type": "markdown",
   "metadata": {},
   "source": [
    "3. En una videoconferencia con 7 alumnos se requiere se conecten en forma\n",
    "aleatoria a la videoconferencia.¿De cuántas formas se pueden conectar si son libres de elegir el orden en que\n",
    "deben conectarse?"
   ]
  },
  {
   "cell_type": "code",
   "execution_count": 5,
   "metadata": {},
   "outputs": [
    {
     "name": "stdout",
     "output_type": "stream",
     "text": [
      "5040\n"
     ]
    }
   ],
   "source": [
    "print(combi(7,7).nprm)"
   ]
  },
  {
   "attachments": {},
   "cell_type": "markdown",
   "metadata": {},
   "source": [
    "4. Una empresa quiere crear un código de tres letras seguidas de tres números\n",
    "para etiquetar sus productos ¿cuántos códigos puede crear si decide utilizar\n",
    "los 10 números y las 26 letras del abecedario y no se pueden repetir ni letras ni\n",
    "números?"
   ]
  },
  {
   "cell_type": "code",
   "execution_count": 6,
   "metadata": {},
   "outputs": [
    {
     "name": "stdout",
     "output_type": "stream",
     "text": [
      "720\n",
      "15600\n",
      "= 11232000\n"
     ]
    }
   ],
   "source": [
    "ej4 = 0\n",
    "#nnnlll\n",
    "ej4_num = combi(10,3).nprm\n",
    "print(ej4_num)\n",
    "\n",
    "ej4_let = combi(26,3).nprm\n",
    "print(ej4_let)\n",
    "\n",
    "ej4 += ej4_num *ej4_let\n",
    "print(\"=\",ej4)\n"
   ]
  },
  {
   "attachments": {},
   "cell_type": "markdown",
   "metadata": {},
   "source": [
    "5.  En\n",
    "una\n",
    "competencia\n",
    "participan\n",
    "6\n",
    "atletas,\n",
    "si\n",
    "se\n",
    "sabe\n",
    "que\n",
    "solo se premia a los 3 primeros y que además no hay empate,\n",
    "se\n",
    "sabe\n",
    "también\n",
    "que\n",
    "David\n",
    "que\n",
    "es\n",
    "uno\n",
    "de\n",
    "estos\n",
    "6\n",
    "atletas\n",
    "ha\n",
    "quedado\n",
    "primero.\n",
    "¿De\n",
    "cuántas\n",
    "maneras\n",
    "se podrá premiar a 3 de estos atletas?"
   ]
  },
  {
   "cell_type": "code",
   "execution_count": 7,
   "metadata": {},
   "outputs": [
    {
     "name": "stdout",
     "output_type": "stream",
     "text": [
      "10\n"
     ]
    }
   ],
   "source": [
    "print(combi(5,2).ncom)"
   ]
  },
  {
   "attachments": {},
   "cell_type": "markdown",
   "metadata": {},
   "source": [
    "6. Debemos ordenar 7 personas distintas (Ana, Luis, Juan, Ely, Luz, Cris y Tavo)\n",
    "en tres asientos. \n"
   ]
  },
  {
   "attachments": {},
   "cell_type": "markdown",
   "metadata": {},
   "source": [
    "a.  ¿Cuántos ordenamientos distintos se pueden obtener?\n"
   ]
  },
  {
   "cell_type": "code",
   "execution_count": 8,
   "metadata": {},
   "outputs": [
    {
     "name": "stdout",
     "output_type": "stream",
     "text": [
      "210\n"
     ]
    }
   ],
   "source": [
    "print(combi(7,3).nprm)"
   ]
  },
  {
   "attachments": {},
   "cell_type": "markdown",
   "metadata": {},
   "source": [
    "b.  ¿Cuántos\n",
    "ordenamientos\n",
    "tiene\n",
    "a\n",
    "Ely\n",
    "en\n",
    "la\n",
    "primera\n",
    "posición?\n",
    "a\n"
   ]
  },
  {
   "cell_type": "code",
   "execution_count": 9,
   "metadata": {},
   "outputs": [
    {
     "name": "stdout",
     "output_type": "stream",
     "text": [
      "30\n"
     ]
    }
   ],
   "source": [
    "print(combi(6,2).nprm)"
   ]
  },
  {
   "attachments": {},
   "cell_type": "markdown",
   "metadata": {},
   "source": [
    "c.  ¿Cuántos tendrá a Ely en la 1ra posición y a Luis en la tercera?\n"
   ]
  },
  {
   "cell_type": "code",
   "execution_count": 10,
   "metadata": {},
   "outputs": [
    {
     "name": "stdout",
     "output_type": "stream",
     "text": [
      "5\n"
     ]
    }
   ],
   "source": [
    "print(combi(5,1).nprm)"
   ]
  },
  {
   "attachments": {},
   "cell_type": "markdown",
   "metadata": {},
   "source": [
    "d.  ¿En cuántos estarán Ana o Cris?"
   ]
  },
  {
   "cell_type": "code",
   "execution_count": 11,
   "metadata": {},
   "outputs": [
    {
     "name": "stdout",
     "output_type": "stream",
     "text": [
      "120\n"
     ]
    }
   ],
   "source": [
    "print(combi(6,3).nprm)"
   ]
  },
  {
   "cell_type": "code",
   "execution_count": 12,
   "metadata": {},
   "outputs": [
    {
     "name": "stdout",
     "output_type": "stream",
     "text": [
      "[('Ana', 'Luis', 'Juan'), ('Ana', 'Luis', 'Ely'), ('Ana', 'Luis', 'Luz'), ('Ana', 'Luis', 'Cris'), ('Ana', 'Luis', 'Tavo'), ('Ana', 'Juan', 'Luis'), ('Ana', 'Juan', 'Ely'), ('Ana', 'Juan', 'Luz'), ('Ana', 'Juan', 'Cris'), ('Ana', 'Juan', 'Tavo'), ('Ana', 'Ely', 'Luis'), ('Ana', 'Ely', 'Juan'), ('Ana', 'Ely', 'Luz'), ('Ana', 'Ely', 'Cris'), ('Ana', 'Ely', 'Tavo'), ('Ana', 'Luz', 'Luis'), ('Ana', 'Luz', 'Juan'), ('Ana', 'Luz', 'Ely'), ('Ana', 'Luz', 'Cris'), ('Ana', 'Luz', 'Tavo'), ('Ana', 'Cris', 'Luis'), ('Ana', 'Cris', 'Juan'), ('Ana', 'Cris', 'Ely'), ('Ana', 'Cris', 'Luz'), ('Ana', 'Cris', 'Tavo'), ('Ana', 'Tavo', 'Luis'), ('Ana', 'Tavo', 'Juan'), ('Ana', 'Tavo', 'Ely'), ('Ana', 'Tavo', 'Luz'), ('Ana', 'Tavo', 'Cris'), ('Luis', 'Ana', 'Juan'), ('Luis', 'Ana', 'Ely'), ('Luis', 'Ana', 'Luz'), ('Luis', 'Ana', 'Cris'), ('Luis', 'Ana', 'Tavo'), ('Luis', 'Juan', 'Ana'), ('Luis', 'Juan', 'Ely'), ('Luis', 'Juan', 'Luz'), ('Luis', 'Juan', 'Cris'), ('Luis', 'Juan', 'Tavo'), ('Luis', 'Ely', 'Ana'), ('Luis', 'Ely', 'Juan'), ('Luis', 'Ely', 'Luz'), ('Luis', 'Ely', 'Cris'), ('Luis', 'Ely', 'Tavo'), ('Luis', 'Luz', 'Ana'), ('Luis', 'Luz', 'Juan'), ('Luis', 'Luz', 'Ely'), ('Luis', 'Luz', 'Cris'), ('Luis', 'Luz', 'Tavo'), ('Luis', 'Cris', 'Ana'), ('Luis', 'Cris', 'Juan'), ('Luis', 'Cris', 'Ely'), ('Luis', 'Cris', 'Luz'), ('Luis', 'Cris', 'Tavo'), ('Luis', 'Tavo', 'Ana'), ('Luis', 'Tavo', 'Juan'), ('Luis', 'Tavo', 'Ely'), ('Luis', 'Tavo', 'Luz'), ('Luis', 'Tavo', 'Cris'), ('Juan', 'Ana', 'Luis'), ('Juan', 'Ana', 'Ely'), ('Juan', 'Ana', 'Luz'), ('Juan', 'Ana', 'Cris'), ('Juan', 'Ana', 'Tavo'), ('Juan', 'Luis', 'Ana'), ('Juan', 'Luis', 'Ely'), ('Juan', 'Luis', 'Luz'), ('Juan', 'Luis', 'Cris'), ('Juan', 'Luis', 'Tavo'), ('Juan', 'Ely', 'Ana'), ('Juan', 'Ely', 'Luis'), ('Juan', 'Ely', 'Luz'), ('Juan', 'Ely', 'Cris'), ('Juan', 'Ely', 'Tavo'), ('Juan', 'Luz', 'Ana'), ('Juan', 'Luz', 'Luis'), ('Juan', 'Luz', 'Ely'), ('Juan', 'Luz', 'Cris'), ('Juan', 'Luz', 'Tavo'), ('Juan', 'Cris', 'Ana'), ('Juan', 'Cris', 'Luis'), ('Juan', 'Cris', 'Ely'), ('Juan', 'Cris', 'Luz'), ('Juan', 'Cris', 'Tavo'), ('Juan', 'Tavo', 'Ana'), ('Juan', 'Tavo', 'Luis'), ('Juan', 'Tavo', 'Ely'), ('Juan', 'Tavo', 'Luz'), ('Juan', 'Tavo', 'Cris'), ('Ely', 'Ana', 'Luis'), ('Ely', 'Ana', 'Juan'), ('Ely', 'Ana', 'Luz'), ('Ely', 'Ana', 'Cris'), ('Ely', 'Ana', 'Tavo'), ('Ely', 'Luis', 'Ana'), ('Ely', 'Luis', 'Juan'), ('Ely', 'Luis', 'Luz'), ('Ely', 'Luis', 'Cris'), ('Ely', 'Luis', 'Tavo'), ('Ely', 'Juan', 'Ana'), ('Ely', 'Juan', 'Luis'), ('Ely', 'Juan', 'Luz'), ('Ely', 'Juan', 'Cris'), ('Ely', 'Juan', 'Tavo'), ('Ely', 'Luz', 'Ana'), ('Ely', 'Luz', 'Luis'), ('Ely', 'Luz', 'Juan'), ('Ely', 'Luz', 'Cris'), ('Ely', 'Luz', 'Tavo'), ('Ely', 'Cris', 'Ana'), ('Ely', 'Cris', 'Luis'), ('Ely', 'Cris', 'Juan'), ('Ely', 'Cris', 'Luz'), ('Ely', 'Cris', 'Tavo'), ('Ely', 'Tavo', 'Ana'), ('Ely', 'Tavo', 'Luis'), ('Ely', 'Tavo', 'Juan'), ('Ely', 'Tavo', 'Luz'), ('Ely', 'Tavo', 'Cris'), ('Luz', 'Ana', 'Luis'), ('Luz', 'Ana', 'Juan'), ('Luz', 'Ana', 'Ely'), ('Luz', 'Ana', 'Cris'), ('Luz', 'Ana', 'Tavo'), ('Luz', 'Luis', 'Ana'), ('Luz', 'Luis', 'Juan'), ('Luz', 'Luis', 'Ely'), ('Luz', 'Luis', 'Cris'), ('Luz', 'Luis', 'Tavo'), ('Luz', 'Juan', 'Ana'), ('Luz', 'Juan', 'Luis'), ('Luz', 'Juan', 'Ely'), ('Luz', 'Juan', 'Cris'), ('Luz', 'Juan', 'Tavo'), ('Luz', 'Ely', 'Ana'), ('Luz', 'Ely', 'Luis'), ('Luz', 'Ely', 'Juan'), ('Luz', 'Ely', 'Cris'), ('Luz', 'Ely', 'Tavo'), ('Luz', 'Cris', 'Ana'), ('Luz', 'Cris', 'Luis'), ('Luz', 'Cris', 'Juan'), ('Luz', 'Cris', 'Ely'), ('Luz', 'Cris', 'Tavo'), ('Luz', 'Tavo', 'Ana'), ('Luz', 'Tavo', 'Luis'), ('Luz', 'Tavo', 'Juan'), ('Luz', 'Tavo', 'Ely'), ('Luz', 'Tavo', 'Cris'), ('Cris', 'Ana', 'Luis'), ('Cris', 'Ana', 'Juan'), ('Cris', 'Ana', 'Ely'), ('Cris', 'Ana', 'Luz'), ('Cris', 'Ana', 'Tavo'), ('Cris', 'Luis', 'Ana'), ('Cris', 'Luis', 'Juan'), ('Cris', 'Luis', 'Ely'), ('Cris', 'Luis', 'Luz'), ('Cris', 'Luis', 'Tavo'), ('Cris', 'Juan', 'Ana'), ('Cris', 'Juan', 'Luis'), ('Cris', 'Juan', 'Ely'), ('Cris', 'Juan', 'Luz'), ('Cris', 'Juan', 'Tavo'), ('Cris', 'Ely', 'Ana'), ('Cris', 'Ely', 'Luis'), ('Cris', 'Ely', 'Juan'), ('Cris', 'Ely', 'Luz'), ('Cris', 'Ely', 'Tavo'), ('Cris', 'Luz', 'Ana'), ('Cris', 'Luz', 'Luis'), ('Cris', 'Luz', 'Juan'), ('Cris', 'Luz', 'Ely'), ('Cris', 'Luz', 'Tavo'), ('Cris', 'Tavo', 'Ana'), ('Cris', 'Tavo', 'Luis'), ('Cris', 'Tavo', 'Juan'), ('Cris', 'Tavo', 'Ely'), ('Cris', 'Tavo', 'Luz'), ('Tavo', 'Ana', 'Luis'), ('Tavo', 'Ana', 'Juan'), ('Tavo', 'Ana', 'Ely'), ('Tavo', 'Ana', 'Luz'), ('Tavo', 'Ana', 'Cris'), ('Tavo', 'Luis', 'Ana'), ('Tavo', 'Luis', 'Juan'), ('Tavo', 'Luis', 'Ely'), ('Tavo', 'Luis', 'Luz'), ('Tavo', 'Luis', 'Cris'), ('Tavo', 'Juan', 'Ana'), ('Tavo', 'Juan', 'Luis'), ('Tavo', 'Juan', 'Ely'), ('Tavo', 'Juan', 'Luz'), ('Tavo', 'Juan', 'Cris'), ('Tavo', 'Ely', 'Ana'), ('Tavo', 'Ely', 'Luis'), ('Tavo', 'Ely', 'Juan'), ('Tavo', 'Ely', 'Luz'), ('Tavo', 'Ely', 'Cris'), ('Tavo', 'Luz', 'Ana'), ('Tavo', 'Luz', 'Luis'), ('Tavo', 'Luz', 'Juan'), ('Tavo', 'Luz', 'Ely'), ('Tavo', 'Luz', 'Cris'), ('Tavo', 'Cris', 'Ana'), ('Tavo', 'Cris', 'Luis'), ('Tavo', 'Cris', 'Juan'), ('Tavo', 'Cris', 'Ely'), ('Tavo', 'Cris', 'Luz')]\n",
      "150\n"
     ]
    }
   ],
   "source": [
    "ej5_d = list(permutations([\"Ana\", \"Luis\", \"Juan\", \"Ely\", \"Luz\", \"Cris\", \"Tavo\"],3))\n",
    "print(ej5_d)\n",
    "contador5=0\n",
    "for i in ej5_d:\n",
    "  if \"Ana\" in i or \"Luis\" in i :\n",
    "    contador5+=1  \n",
    "print(contador5)\n",
    "#como saver si hay un elemento en una tupla"
   ]
  },
  {
   "attachments": {},
   "cell_type": "markdown",
   "metadata": {},
   "source": [
    "7. Escribe un número de 10 dígitos que el primer dígito indique el número de\n",
    "ceros que hay en el número; el segundo dígito, el número de unos, y el tercer\n",
    "dígito el número de doces"
   ]
  },
  {
   "cell_type": "code",
   "execution_count": 13,
   "metadata": {},
   "outputs": [
    {
     "name": "stdout",
     "output_type": "stream",
     "text": [
      "azumakina ta muy dificil profe 😐\n"
     ]
    }
   ],
   "source": [
    "print(\"azumakina ta muy dificil profe 😐\")"
   ]
  },
  {
   "attachments": {},
   "cell_type": "markdown",
   "metadata": {},
   "source": [
    "8. para elaborar el código de identificación de un producto se requiere un\n",
    "número de 20 dígitos que sea divisible entre 3 entre 10 y entre 4 y que además\n",
    "tenga 10 de sus dígitos iguales a uno cuál puede ser ese número"
   ]
  },
  {
   "cell_type": "code",
   "execution_count": null,
   "metadata": {},
   "outputs": [],
   "source": [
    "\n"
   ]
  },
  {
   "attachments": {},
   "cell_type": "markdown",
   "metadata": {},
   "source": [
    "9. El comité escolar (presidente, secretario y tesorero) se eligen entre 12\n",
    "maestros, sin importar si es hombre o mujer. ¿De cuantas maneras puede\n",
    "integrarse el comité?"
   ]
  },
  {
   "cell_type": "code",
   "execution_count": 6,
   "metadata": {},
   "outputs": [
    {
     "name": "stdout",
     "output_type": "stream",
     "text": [
      "1320\n"
     ]
    }
   ],
   "source": [
    "print(combi(12,3).nprm)"
   ]
  },
  {
   "attachments": {},
   "cell_type": "markdown",
   "metadata": {},
   "source": [
    "10. Calcular cuantas formas hay de acomodar los libros: Cuatro libros distintos\n",
    "de matemáticas, seis diferentes de física y dos diferentes de química se\n",
    "colocan en un estante."
   ]
  },
  {
   "attachments": {},
   "cell_type": "markdown",
   "metadata": {},
   "source": [
    "De cuántas formas distintas es posible ordenarlos si:\n"
   ]
  },
  {
   "attachments": {},
   "cell_type": "markdown",
   "metadata": {},
   "source": [
    "• Los libros de cada asignatura deben estar todos juntos."
   ]
  },
  {
   "attachments": {},
   "cell_type": "markdown",
   "metadata": {},
   "source": [
    "• Solamente los libros de matemáticas deben estar juntos."
   ]
  },
  {
   "attachments": {},
   "cell_type": "markdown",
   "metadata": {},
   "source": [
    "11. Una empresa seleccionará su nuevo Comité, el cual estará integrado por 7\n",
    "miembros. Dentro de los elegibles se encuentran: 6 ingenieros\n",
    "4 administradores\n",
    "8 abogados\n",
    "3 contadores"
   ]
  },
  {
   "attachments": {},
   "cell_type": "markdown",
   "metadata": {},
   "source": [
    "¿De cuántas formas puede integrarse el Comité si debe haber al menos 3\n",
    "Ingenieros, 1 Abogado, 2 Administradores y 1 Contador?"
   ]
  },
  {
   "attachments": {},
   "cell_type": "markdown",
   "metadata": {},
   "source": [
    "12. Víctor desea viajar de Medellín a España, pero debe ir a Rionegro y hacer escala\n",
    "en Portugal. Para ir de Portugal a España existen 6 líneas aéreas, para ir de\n",
    "Medellín a Rionegro lo puede hacer por vía terrestre en 3 rutas, o lo puede\n",
    "hacer por 2 rutas aéreas. Si para ir de Rionegro a Portugal existen 5 líneas\n",
    "aéreas."
   ]
  },
  {
   "attachments": {},
   "cell_type": "markdown",
   "metadata": {},
   "source": [
    "¿Cuántas maneras diferentes puede hacer el viaje Víctor? ¿cuántas maneras\n",
    "diferentes de ida y regreso?"
   ]
  },
  {
   "attachments": {},
   "cell_type": "markdown",
   "metadata": {},
   "source": [
    "13. un entrenador de fútbol quiere presentar una alineación con 3 defensas, 4\n",
    "centrocampistas y 3 delanteros. Si dispone de 3 porteros,7 defensas,10\n",
    "centrocampistas y 6 delanteros, ¿cuántas alineaciones distintas puede\n",
    "presentar teniendo en cuenta que cada jugador solo puede jugar en su línea\n",
    "correspondiente?"
   ]
  }
 ],
 "metadata": {
  "kernelspec": {
   "display_name": "Python 3",
   "language": "python",
   "name": "python3"
  },
  "language_info": {
   "codemirror_mode": {
    "name": "ipython",
    "version": 3
   },
   "file_extension": ".py",
   "mimetype": "text/x-python",
   "name": "python",
   "nbconvert_exporter": "python",
   "pygments_lexer": "ipython3",
   "version": "3.11.2"
  },
  "orig_nbformat": 4
 },
 "nbformat": 4,
 "nbformat_minor": 2
}
