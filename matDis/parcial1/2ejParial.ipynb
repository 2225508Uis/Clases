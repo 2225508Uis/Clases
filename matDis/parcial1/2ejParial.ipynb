{
 "cells": [
  {
   "cell_type": "code",
   "execution_count": 110,
   "metadata": {},
   "outputs": [],
   "source": [
    "import matplotlib.pyplot as plt\n",
    "import matplotlib.pyplot as plt\n",
    "class partido:\n",
    "  def __init__(self,fecha,rival,gFv,gCt) -> None:\n",
    "    self.fecha = fecha\n",
    "    self.rival =rival\n",
    "    self.gFv = gFv\n",
    "    self.gCt = gCt    \n",
    "    pass"
   ]
  },
  {
   "cell_type": "code",
   "execution_count": 111,
   "metadata": {},
   "outputs": [],
   "source": [
    "partidos=[]\n",
    "while True:\n",
    "  menu = input(\"ingresar resultados? y/n: \")\n",
    "  if menu == \"y\" :\n",
    "    partidos.append(partido(input(\"fecha: \"),input(\"rival: \"),int(input(\"goles a favor: \")),int(input(\"gole en contra\"))))  \n",
    "  elif menu ==\"n\" :\n",
    "    break"
   ]
  },
  {
   "cell_type": "code",
   "execution_count": 112,
   "metadata": {},
   "outputs": [
    {
     "name": "stdout",
     "output_type": "stream",
     "text": [
      "fecha\trival\tgoles_a_favor\tgoles_en_contra\n",
      "asdf \t adfs \t 0 \t \t 2\n",
      "asdf \t asdf \t 0 \t \t 3\n",
      "asjfd \t asfd \t 2 \t \t 2\n"
     ]
    }
   ],
   "source": [
    "print(\"fecha\\trival\\tgoles_a_favor\\tgoles_en_contra\")\n",
    "for obj in partidos:\n",
    "  print(obj.fecha, \"\\t\", obj.rival, \"\\t\", obj.gFv, \"\\t\", \"\\t\", obj.gCt)"
   ]
  },
  {
   "cell_type": "code",
   "execution_count": 113,
   "metadata": {},
   "outputs": [],
   "source": [
    "temporada = {}\n",
    "for obj in partidos:\n",
    "  temporada[obj.fecha] = {\n",
    "    \"rival\" : obj.rival,\n",
    "    \"goles a favor\" : obj.gFv,\n",
    "    \"goles en contra\":  obj.gCt\n",
    "  }\n",
    "\n"
   ]
  },
  {
   "cell_type": "code",
   "execution_count": 114,
   "metadata": {},
   "outputs": [
    {
     "name": "stdout",
     "output_type": "stream",
     "text": [
      "{'asdf': {'rival': 'asdf', 'goles a favor': 0, 'goles en contra': 3}, 'asjfd': {'rival': 'asfd', 'goles a favor': 2, 'goles en contra': 2}}\n"
     ]
    }
   ],
   "source": [
    "print(temporada)"
   ]
  },
  {
   "cell_type": "code",
   "execution_count": 119,
   "metadata": {},
   "outputs": [
    {
     "name": "stdout",
     "output_type": "stream",
     "text": [
      "partidos ganados \t partidos perdidos \t partidos empatados\n",
      "0 \t \t \t 2 \t \t \t 1\n"
     ]
    }
   ],
   "source": [
    "print(\"partidos ganados\",\"\\t\",\"partidos perdidos\",\"\\t\",\"partidos empatados\")\n",
    "ganados=0\n",
    "perdidos=0\n",
    "empatados=0\n",
    "for obj in partidos:\n",
    "  if obj.gFv==obj.gCt:\n",
    "    empatados+=1\n",
    "  elif obj.gFv>obj.gCt:\n",
    "    ganados+=1\n",
    "  elif obj.gFv<obj.gCt:\n",
    "    perdidos+=1\n",
    "  else:\n",
    "    print(\"error\")\n",
    "print(ganados,\"\\t\",\"\\t\",\"\\t\",perdidos,\"\\t\",\"\\t\",\"\\t\",empatados)"
   ]
  },
  {
   "cell_type": "code",
   "execution_count": 120,
   "metadata": {},
   "outputs": [
    {
     "data": {
      "image/png": "[encoded data removed]",
      "text/plain": [
       "<Figure size 640x480 with 1 Axes>"
      ]
     },
     "metadata": {},
     "output_type": "display_data"
    }
   ],
   "source": [
    "datos = [ganados,perdidos,empatados]\n",
    "etiquetas = [\"Partidos ganados\", \"partidso perdidos\", \"Partidos empatados\"]\n",
    "plt.bar(etiquetas, datos)\n",
    "plt.title(\"Temporada\")\n",
    "plt.ylabel(\"und\")\n",
    "plt.show()"
   ]
  },
  {
   "cell_type": "code",
   "execution_count": 117,
   "metadata": {},
   "outputs": [
    {
     "name": "stdout",
     "output_type": "stream",
     "text": [
      "[<__main__.partido object at 0x000001CA7FA2E850>, <__main__.partido object at 0x000001CA0AF3C850>]\n"
     ]
    }
   ],
   "source": [
    "goleadas = []\n",
    "\n",
    "for obj in partidos:  \n",
    "  if obj.gFv+2 <=  obj.gCt :\n",
    "    goleadas.append(obj)\n",
    "print(goleadas)"
   ]
  },
  {
   "cell_type": "code",
   "execution_count": 118,
   "metadata": {},
   "outputs": [
    {
     "name": "stdout",
     "output_type": "stream",
     "text": [
      "['adfs', 'asdf', 'asfd']\n"
     ]
    }
   ],
   "source": [
    "rivales=[]\n",
    "for obj in partidos:\n",
    "  rivales.append(obj.rival)\n",
    "print(rivales)\n"
   ]
  }
 ],
 "metadata": {
  "kernelspec": {
   "display_name": "Python 3",
   "language": "python",
   "name": "python3"
  },
  "language_info": {
   "codemirror_mode": {
    "name": "ipython",
    "version": 3
   },
   "file_extension": ".py",
   "mimetype": "text/x-python",
   "name": "python",
   "nbconvert_exporter": "python",
   "pygments_lexer": "ipython3",
   "version": "3.11.2"
  },
  "orig_nbformat": 4
 },
 "nbformat": 4,
 "nbformat_minor": 2
}
