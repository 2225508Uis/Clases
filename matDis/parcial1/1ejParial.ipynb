{
 "cells": [
  {
   "cell_type": "code",
   "execution_count": 58,
   "metadata": {},
   "outputs": [],
   "source": [
    "import datetime\n",
    "import statistics\n",
    "\n",
    "\n",
    "class venta: \n",
    "  def __init__(self,nombre,cantidad,precio) -> None:\n",
    "    self.nombre = nombre\n",
    "    self.cantidad = cantidad\n",
    "    self.precio = precio\n",
    "    horaTmp = datetime.datetime.now().hour\n",
    "    minuto = datetime.datetime.now().minute\n",
    "    self.fecha = datetime.date.today()\n",
    "    self.hora = str(horaTmp)+\":\"+str(minuto)\n",
    "    pass\n"
   ]
  },
  {
   "cell_type": "code",
   "execution_count": null,
   "metadata": {},
   "outputs": [],
   "source": [
    "import datetime\n",
    "import statistics\n",
    "\n",
    "\n",
    "class venta: \n",
    "  def __init__(self,nombre,cantidad,precio) -> None:\n",
    "    self.nombre = nombre\n",
    "    self.cantidad = cantidad\n",
    "    self.precio = precio\n",
    "    horaTmp = datetime.datetime.now().hour\n",
    "    minuto = datetime.datetime.now().minute\n",
    "    self.fecha = datetime.date.today()\n",
    "    self.hora = str(horaTmp)+\":\"+str(minuto)\n",
    "    pass\n"
   ]
  },
  {
   "cell_type": "code",
   "execution_count": null,
   "metadata": {},
   "outputs": [],
   "source": [
    "import datetime\n",
    "import statistics\n",
    "\n",
    "\n",
    "class venta: \n",
    "  def __init__(self,nombre,cantidad,precio) -> None:\n",
    "    self.nombre = nombre\n",
    "    self.cantidad = cantidad\n",
    "    self.precio = precio\n",
    "    horaTmp = datetime.datetime.now().hour\n",
    "    minuto = datetime.datetime.now().minute\n",
    "    self.fecha = datetime.date.today()\n",
    "    self.hora = str(horaTmp)+\":\"+str(minuto)\n",
    "    pass\n"
   ]
  },
  {
   "cell_type": "code",
   "execution_count": null,
   "metadata": {},
   "outputs": [],
   "source": [
    "import datetime\n",
    "import statistics\n",
    "\n",
    "\n",
    "class venta: \n",
    "  def __init__(self,nombre,cantidad,precio) -> None:\n",
    "    self.nombre = nombre\n",
    "    self.cantidad = cantidad\n",
    "    self.precio = precio\n",
    "    horaTmp = datetime.datetime.now().hour\n",
    "    minuto = datetime.datetime.now().minute\n",
    "    self.fecha = datetime.date.today()\n",
    "    self.hora = str(horaTmp)+\":\"+str(minuto)\n",
    "    pass\n"
   ]
  },
  {
   "cell_type": "code",
   "execution_count": 3,
   "metadata": {},
   "outputs": [],
   "source": [
    "\n",
    "ventas = []\n",
    "\n",
    "while True:\n",
    "  seleccion = input(\"registrar venta? y/n: \")\n",
    "  if seleccion == \"y\":\n",
    "    obj = venta(input(\"Nombre: \"),int(input(\"Cantidad \")),int(input(\"Precio: \")))\n",
    "    ventas.append(obj)\n",
    "  elif seleccion == \"n\":\n",
    "    break\n"
   ]
  },
  {
   "cell_type": "code",
   "execution_count": 4,
   "metadata": {},
   "outputs": [
    {
     "name": "stdout",
     "output_type": "stream",
     "text": [
      "nombre/cantidad/precio/fecha/hora\n",
      "aguacate 1 2000 2023-04-10 19:22\n",
      "tomate 39 200 2023-04-10 19:22\n",
      "\n"
     ]
    }
   ],
   "source": [
    "print(\"nombre/cantidad/precio/fecha/hora\")\n",
    "for i in ventas:\n",
    "    print(i.nombre,i.cantidad,i.precio,i.fecha,i.hora)\n",
    "print(\"\")\n"
   ]
  },
  {
   "cell_type": "code",
   "execution_count": 5,
   "metadata": {},
   "outputs": [
    {
     "name": "stdout",
     "output_type": "stream",
     "text": [
      "{datetime.date(2023, 4, 10): 40, 'aguacate': 1, 'tomate': 39}\n"
     ]
    }
   ],
   "source": [
    "vntPorDia = {}\n",
    "for itm in ventas:\n",
    "  if itm.fecha in vntPorDia:\n",
    "    vntPorDia[itm.fecha] += itm.cantidad\n",
    "  else :\n",
    "    vntPorDia[itm.fecha] = itm.cantidad\n",
    "  if itm.nombre in vntPorDia:\n",
    "    vntPorDia[itm.nombre] += itm.cantidad\n",
    "  else:\n",
    "    vntPorDia[itm.nombre] = itm.cantidad\n",
    "print(vntPorDia)"
   ]
  },
  {
   "cell_type": "code",
   "execution_count": 59,
   "metadata": {},
   "outputs": [
    {
     "name": "stdout",
     "output_type": "stream",
     "text": [
      "{'media': 1100, 'mediana': 1100.0, 'moda': 2000}\n",
      "[2000, 200]\n"
     ]
    }
   ],
   "source": [
    "vntStadistics = {}\n",
    "precios = []\n",
    "for i in ventas:\n",
    "  precios.append(i.precio)\n",
    "vntStadistics[\"media\"] = statistics.mean(precios)\n",
    "vntStadistics[\"mediana\"] = statistics.median(precios)\n",
    "vntStadistics[\"moda\"] = statistics.mode(precios)\n",
    "print(vntStadistics)\n",
    "print(precios)"
   ]
  },
  {
   "cell_type": "code",
   "execution_count": null,
   "metadata": {},
   "outputs": [],
   "source": [
    "#libreria para calcular media,mediana y moda en python"
   ]
  }
 ],
 "metadata": {
  "kernelspec": {
   "display_name": "Python 3",
   "language": "python",
   "name": "python3"
  },
  "language_info": {
   "codemirror_mode": {
    "name": "ipython",
    "version": 3
   },
   "file_extension": ".py",
   "mimetype": "text/x-python",
   "name": "python",
   "nbconvert_exporter": "python",
   "pygments_lexer": "ipython3",
   "version": "3.11.2"
  },
  "orig_nbformat": 4
 },
 "nbformat": 4,
 "nbformat_minor": 2
}
