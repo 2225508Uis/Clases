{
 "cells": [
  {
   "attachments": {},
   "cell_type": "markdown",
   "metadata": {},
   "source": [
    "# Ordenamiento por inserción\n",
    "#### funcionamiento\n",
    "<div>\n",
    "<img src = \"img/animated.gif\" width = 50%  >\n",
    "</div>"
   ]
  },
  {
   "attachments": {},
   "cell_type": "markdown",
   "metadata": {},
   "source": [
    "\n",
    "#### complejidad\n",
    "<div>\n",
    "<img src = \"img/Screenshot_1.png\" width = 50%  >\n",
    "</div>"
   ]
  },
  {
   "cell_type": "code",
   "execution_count": 5,
   "metadata": {},
   "outputs": [
    {
     "name": "stdout",
     "output_type": "stream",
     "text": [
      "cambios en la lista [5, 7, 1, 3, 8, 4, 9, 2, 6]\n",
      "cambios en la lista [1, 5, 7, 3, 8, 4, 9, 2, 6]\n",
      "cambios en la lista [1, 3, 5, 7, 8, 4, 9, 2, 6]\n",
      "cambios en la lista [1, 3, 5, 7, 8, 4, 9, 2, 6]\n",
      "cambios en la lista [1, 3, 4, 5, 7, 8, 9, 2, 6]\n",
      "cambios en la lista [1, 3, 4, 5, 7, 8, 9, 2, 6]\n",
      "cambios en la lista [1, 2, 3, 4, 5, 7, 8, 9, 6]\n",
      "cambios en la lista [1, 2, 3, 4, 5, 6, 7, 8, 9]\n"
     ]
    }
   ],
   "source": [
    "lista = [5,7,1,3,8,4,9,2,6]\n",
    "for i in range(1,len(lista)):\n",
    "  \n",
    "  actual = lista[i]\n",
    "  idx=i\n",
    "  \n",
    "  while idx>0 and lista[idx-1]>actual:\n",
    "    lista[idx]=lista[idx-1]\n",
    "    idx-=1\n",
    "  lista[idx]=actual\n",
    "  print(\"cambios en la lista\",lista)"
   ]
  }
 ],
 "metadata": {
  "kernelspec": {
   "display_name": "Python 3",
   "language": "python",
   "name": "python3"
  },
  "language_info": {
   "codemirror_mode": {
    "name": "ipython",
    "version": 3
   },
   "file_extension": ".py",
   "mimetype": "text/x-python",
   "name": "python",
   "nbconvert_exporter": "python",
   "pygments_lexer": "ipython3",
   "version": "3.10.4"
  },
  "orig_nbformat": 4
 },
 "nbformat": 4,
 "nbformat_minor": 2
}
