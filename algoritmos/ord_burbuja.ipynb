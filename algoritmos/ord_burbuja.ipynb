{
 "cells": [
  {
   "cell_type": "markdown",
   "metadata": {},
   "source": [
    "# Ordenamiento por burbuja\n"
   ]
  },
  {
   "attachments": {},
   "cell_type": "markdown",
   "metadata": {},
   "source": [
    "####funcionamiento\n",
    "<div>\n",
    "<img src = \"img/imgBurbuja.gif\" width = 25% / >\n",
    "</div>\n"
   ]
  },
  {
   "attachments": {},
   "cell_type": "markdown",
   "metadata": {},
   "source": [
    "#### complejidad\n",
    "nesesita 64 comparaciones\n",
    "<div>\n",
    "<img src = \"img/imgDificultad.png\" width = 50%  >\n",
    "</div>"
   ]
  },
  {
   "cell_type": "code",
   "execution_count": 3,
   "metadata": {},
   "outputs": [
    {
     "name": "stdout",
     "output_type": "stream",
     "text": [
      "Comparando: 5 con 7\n",
      "Comparando: 7 con 3\n",
      "intercambio: 3 por 7\n",
      "Comparando: 7 con 1\n",
      "intercambio: 1 por 7\n",
      "Comparando: 7 con 8\n",
      "Comparando: 8 con 4\n",
      "intercambio: 4 por 8\n",
      "Comparando: 8 con 9\n",
      "Comparando: 9 con 2\n",
      "intercambio: 2 por 9\n",
      "Comparando: 9 con 6\n",
      "intercambio: 6 por 9\n",
      "Comparando: 5 con 3\n",
      "intercambio: 3 por 5\n",
      "Comparando: 5 con 1\n",
      "intercambio: 1 por 5\n",
      "Comparando: 5 con 7\n",
      "Comparando: 7 con 4\n",
      "intercambio: 4 por 7\n",
      "Comparando: 7 con 8\n",
      "Comparando: 8 con 2\n",
      "intercambio: 2 por 8\n",
      "Comparando: 8 con 6\n",
      "intercambio: 6 por 8\n",
      "Comparando: 8 con 9\n",
      "Comparando: 3 con 1\n",
      "intercambio: 1 por 3\n",
      "Comparando: 3 con 5\n",
      "Comparando: 5 con 4\n",
      "intercambio: 4 por 5\n",
      "Comparando: 5 con 7\n",
      "Comparando: 7 con 2\n",
      "intercambio: 2 por 7\n",
      "Comparando: 7 con 6\n",
      "intercambio: 6 por 7\n",
      "Comparando: 7 con 8\n",
      "Comparando: 8 con 9\n",
      "Comparando: 1 con 3\n",
      "Comparando: 3 con 4\n",
      "Comparando: 4 con 5\n",
      "Comparando: 5 con 2\n",
      "intercambio: 2 por 5\n",
      "Comparando: 5 con 6\n",
      "Comparando: 6 con 7\n",
      "Comparando: 7 con 8\n",
      "Comparando: 8 con 9\n",
      "Comparando: 1 con 3\n",
      "Comparando: 3 con 4\n",
      "Comparando: 4 con 2\n",
      "intercambio: 2 por 4\n",
      "Comparando: 4 con 5\n",
      "Comparando: 5 con 6\n",
      "Comparando: 6 con 7\n",
      "Comparando: 7 con 8\n",
      "Comparando: 8 con 9\n",
      "Comparando: 1 con 3\n",
      "Comparando: 3 con 2\n",
      "intercambio: 2 por 3\n",
      "Comparando: 3 con 4\n",
      "Comparando: 4 con 5\n",
      "Comparando: 5 con 6\n",
      "Comparando: 6 con 7\n",
      "Comparando: 7 con 8\n",
      "Comparando: 8 con 9\n",
      "Comparando: 1 con 2\n",
      "Comparando: 2 con 3\n",
      "Comparando: 3 con 4\n",
      "Comparando: 4 con 5\n",
      "Comparando: 5 con 6\n",
      "Comparando: 6 con 7\n",
      "Comparando: 7 con 8\n",
      "Comparando: 8 con 9\n",
      "Comparando: 1 con 2\n",
      "Comparando: 2 con 3\n",
      "Comparando: 3 con 4\n",
      "Comparando: 4 con 5\n",
      "Comparando: 5 con 6\n",
      "Comparando: 6 con 7\n",
      "Comparando: 7 con 8\n",
      "Comparando: 8 con 9\n",
      "[1, 2, 3, 4, 5, 6, 7, 8, 9]\n"
     ]
    }
   ],
   "source": [
    "lista=[5,7,3,1,8,4,9,2,6]\n",
    "for i in range(len(lista)-1):\n",
    "  for j in range(len(lista)-1):\n",
    "    print(\"Comparando:\",lista[j],\"con\",lista[j+1])\n",
    "    if lista[j]>lista[j+1]:\n",
    "      temporal = lista[j]\n",
    "      lista[j] = lista[j+1]\n",
    "      lista[j+1] = temporal\n",
    "      print(\"intercambio:\",lista[j],\"por\",lista[j+1])\n",
    "print(lista)"
   ]
  }
 ],
 "metadata": {
  "kernelspec": {
   "display_name": "Python 3",
   "language": "python",
   "name": "python3"
  },
  "language_info": {
   "codemirror_mode": {
    "name": "ipython",
    "version": 3
   },
   "file_extension": ".py",
   "mimetype": "text/x-python",
   "name": "python",
   "nbconvert_exporter": "python",
   "pygments_lexer": "ipython3",
   "version": "3.10.4"
  },
  "orig_nbformat": 4
 },
 "nbformat": 4,
 "nbformat_minor": 2
}
