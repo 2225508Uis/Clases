{
 "cells": [
  {
   "attachments": {},
   "cell_type": "markdown",
   "metadata": {},
   "source": [
    "# busqueda binaria\n"
   ]
  },
  {
   "cell_type": "code",
   "execution_count": 45,
   "metadata": {},
   "outputs": [
    {
     "name": "stdout",
     "output_type": "stream",
     "text": [
      "{1, 2, 3, 4, 5, 6, 7, 8, 9, 10, 11, 12, 13, 14, 15, 16, 17, 18, 19, 20}\n",
      "len = 20\n"
     ]
    }
   ],
   "source": [
    "lista=set()\n",
    "for i in range(1,21):\n",
    "  lista.add(i)\n",
    "print(lista)\n",
    "lista2=[1,2,3,5,7,9,10,20]\n",
    "print(\"len =\",len(lista))"
   ]
  },
  {
   "cell_type": "code",
   "execution_count": 46,
   "metadata": {},
   "outputs": [
    {
     "name": "stdout",
     "output_type": "stream",
     "text": [
      "0 10 20\n",
      "10 15 20\n",
      "15 17 20\n",
      "17 18 20\n",
      "18 19 20\n",
      "encontrado, es: 19\n",
      "se a encontrado\n"
     ]
    }
   ],
   "source": [
    "def busquedaBinaria(lst,num):\n",
    "  input=num\n",
    "  count=0\n",
    "  low=0\n",
    "  high=len(lst)  \n",
    "  mid=0\n",
    "  \n",
    "  while low<=high and count<len(lst):\n",
    "    mid=int((low+high)/2)\n",
    "    print(low, mid, high)\n",
    "    if mid==input:\n",
    "      print(\"encontrado, es:\",mid)\n",
    "      return True\n",
    "    elif high==input:\n",
    "      print(\"se encontro es:\",input)\n",
    "      return True\n",
    "    elif mid>input:\n",
    "      high=mid      \n",
    "    elif mid<input:\n",
    "      low=mid\n",
    "    count+=1\n",
    "  return False\n",
    "  \n",
    "while True:\n",
    "  buscar=int(input(\"de la lista anterior cual quiere buscar?:\"))\n",
    "  encontrado=busquedaBinaria(lista,buscar)\n",
    "  if encontrado == True :\n",
    "    print(\"se a encontrado exitosamente\")\n",
    "    break\n",
    "  else :\n",
    "    print(\"el numero no se encuentra en la lista\")\n",
    "    break\n",
    "  break"
   ]
  },
  {
   "cell_type": "code",
   "execution_count": 49,
   "metadata": {},
   "outputs": [
    {
     "name": "stdout",
     "output_type": "stream",
     "text": [
      "The time used to execute this is given below\n",
      "0.0001304149627685547\n",
      "1679903434.427554\n"
     ]
    }
   ],
   "source": [
    "import time\n",
    "\n",
    "start = time.time()\n",
    "\n",
    "print(\"The time used to execute this is given below\")\n",
    "\n",
    "end = time.time()\n",
    "\n",
    "print(end - start)\n",
    "print(time.time())"
   ]
  }
 ],
 "metadata": {
  "kernelspec": {
   "display_name": "Python 3",
   "language": "python",
   "name": "python3"
  },
  "language_info": {
   "codemirror_mode": {
    "name": "ipython",
    "version": 3
   },
   "file_extension": ".py",
   "mimetype": "text/x-python",
   "name": "python",
   "nbconvert_exporter": "python",
   "pygments_lexer": "ipython3",
   "version": "3.10.4"
  },
  "orig_nbformat": 4
 },
 "nbformat": 4,
 "nbformat_minor": 2
}
